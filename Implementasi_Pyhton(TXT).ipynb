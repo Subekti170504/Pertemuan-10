{
  "nbformat": 4,
  "nbformat_minor": 0,
  "metadata": {
    "colab": {
      "provenance": []
    },
    "kernelspec": {
      "name": "python3",
      "display_name": "Python 3"
    },
    "language_info": {
      "name": "python"
    }
  },
  "cells": [
    {
      "cell_type": "markdown",
      "source": [
        "Implementasi Python Dengan Dataset TXT"
      ],
      "metadata": {
        "id": "QTBVwws_CGpE"
      }
    },
    {
      "cell_type": "code",
      "execution_count": 1,
      "metadata": {
        "id": "Uu1Na8SFCDOk"
      },
      "outputs": [],
      "source": [
        "#import libary yang digunakan\n",
        "import numpy as np\n",
        "from matplotlib import pyplot as plt\n",
        "from matplotlib.pyplot import cm\n",
        "import time\n",
        "import itertools\n",
        "\n",
        "#baca dataset dari file\n",
        "datasetPath = \"customer.csv\"\n",
        "# Use np.genfromtxt to load data, handle mixed types, and fill missing values with NaN.\n",
        "# The delimiter is changed to ',' to correctly read the CSV file.\n",
        "dataset = np.genfromtxt(datasetPath, delimiter=\",\", filling_values=np.nan)\n",
        "\n",
        "#mendefinisikan parameter k-means klustering\n",
        "k = 2 #jumlah klaster yg diinginkan\n",
        "iterationCounter = 0 #counter untuk iterasi\n",
        "input = dataset #input data\n",
        "\n",
        "#fungsi untuk inisialisi titik pusat klaster (random)\n",
        "def initCentroid(dataIn, k):\n",
        "  result = dataIn[np.random.choice(dataIn.shape[0], k, replace=False)]\n",
        "  return result"
      ]
    },
    {
      "cell_type": "code",
      "source": [
        "#fungsi untuk plot hasil klaster per iterasi\n",
        "def plotClusterResult(listClusterMembers, centroid, iteration, converged):\n",
        "  n = listClusterMembers.__len__()\n",
        "  color = iter(cm.rainbow(np.linspace(0, 1, n)))\n",
        "  plt.figure(\"result\")\n",
        "  plt.clf()\n",
        "  plt.title(\"iteration-\" + iteration)\n",
        "  marker = itertools.cycle(('.', '*', '^', 'x', '+'))\n",
        "  for i in range(n):\n",
        "    col = next(color)\n",
        "    memberCluster = np.asmatrix(listClusterMembers[i])\n",
        "    plt.scatter(np.ravel(memberCluster[:, 0]), np.ravel(memberCluster[:, 1]),\n",
        "                marker=marker.__next__(), s=100, c=col, label=\"klaster-\"+str(i+1))\n",
        "  for i in range(n):\n",
        "    plt.scatter((centroid[i, 0]), (centroid[i, 1]), marker=marker.__next__(),\n",
        "                c=col, label=\"centroid-\" + str(i+1))\n",
        "  if(converged == 0):\n",
        "    plt.legend()\n",
        "    plt.ion()\n",
        "    plt.show()\n",
        "    plt.pause(0.1)\n",
        "  if (converged == 1):\n",
        "    plt.legend()\n",
        "    plt.show(block=True)"
      ],
      "metadata": {
        "id": "f6Vf7TEJEcLs"
      },
      "execution_count": 2,
      "outputs": []
    },
    {
      "cell_type": "code",
      "source": [
        "#fungsi utama algoritma k-means\n",
        "def kMeans(data, centroidInit):\n",
        "  nCluster = k #banyaknya klaster\n",
        "  global iterationCounter\n",
        "  centroidInit = np.matrix(centroidInit)\n",
        "  #looping hingga konvergen\n",
        "  while(True):\n",
        "    iterationCounter += 1\n",
        "    euclideanMatrixAllCluster = np.ndarray(shape=(data.shape[0], 0))\n",
        "    #ulangi proses untuk semua klaster\n",
        "    for i in range(0, nCluster):\n",
        "      centroidRepeated = np.repeat(centroidInit[i, :], data.shape[0], axis=0)\n",
        "      deltaMatrix = abs(np.subtract(data, centroidRepeated))\n",
        "      #hitung jarak Euclidean\n",
        "      euclideanMatrix = np.sqrt(np.square(deltaMatrix).sum(axis=1))\n",
        "      euclideanMatrixAllCluster = \\\n",
        "        np.concatenate((euclideanMatrixAllCluster, euclideanMatrix), axis=1)\n",
        "    #tempatkan data ke klaster yang jarak Euclideannya paling dekat\n",
        "    clusterMatrix = np.ravel(np.argmin(np.matrix(euclideanMatrixAllCluster), axis=1))\n",
        "    listClusterMembers = [[] for i in range(k)]\n",
        "    for i in range(data.shape[0]): #assign data to cluster regarding cluster matrix\n",
        "      # Use listClusterMembers instead of listClusterMember\n",
        "      # Replace np.asscalar with .item() to get the scalar value\n",
        "      listClusterMembers[clusterMatrix[i].item()].append(data[i,:])\n",
        "    #hitung titik pusat klaster terbaru\n",
        "    newCentroid = np.ndarray(shape=(0, centroidInit.shape[1]))\n",
        "    for i in range(0,nCluster):\n",
        "      memberCluster = np.asmatrix(listClusterMembers[i])\n",
        "      centroidCluster = memberCluster.mean(axis=0)\n",
        "      newCentroid = np.concatenate((newCentroid, centroidCluster), axis=0)\n",
        "    print(\"iter: \", iterationCounter)\n",
        "    print(\"centroid: \", newCentroid)\n",
        "    #break dari loop jika sudah konvergen\n",
        "    if((centroidInit == newCentroid).all()):\n",
        "      break\n",
        "    #update titik pusat klaster dengan nilai yang baru\n",
        "    centroidInit = newCentroid\n",
        "    #plot hasil klaster per iterasi\n",
        "    plotClusterResult(listClusterMembers, centroidInit, str(iterationCounter), 0)\n",
        "    time.sleep(1) # diberi jeda 1 detik agak hasil plot klaster nyaman dilihat\n",
        "  return listClusterMembers, centroidInit"
      ],
      "metadata": {
        "id": "XrUI1xqZZ71K"
      },
      "execution_count": 5,
      "outputs": []
    },
    {
      "cell_type": "code",
      "source": [
        "import numpy as np\n",
        "\n",
        "def kMeans(data, centroidInit, maxIter=100, tol=1e-4):\n",
        "    # Jumlah klaster\n",
        "    k = centroidInit.shape[0]\n",
        "    # Centroid awal\n",
        "    centroids = centroidInit\n",
        "    # Variabel untuk menyimpan hasil klaster\n",
        "    clusterResults = np.zeros(data.shape[0], dtype=int)\n",
        "\n",
        "    for iterationCounter in range(maxIter):\n",
        "        # Hitung jarak setiap titik data ke setiap centroid\n",
        "        distances = np.linalg.norm(data[:, np.newaxis] - centroids, axis=2)\n",
        "        # Tentukan klaster terdekat untuk setiap data\n",
        "        clusterResults = np.argmin(distances, axis=1)\n",
        "\n",
        "        # Buat array untuk menyimpan centroid baru\n",
        "        newCentroids = np.zeros_like(centroids)\n",
        "        for i in range(k):\n",
        "            # Ambil data yang termasuk dalam klaster i\n",
        "            clusterData = data[clusterResults == i]\n",
        "            if len(clusterData) > 0:\n",
        "                # Hitung rata-rata posisi untuk klaster i\n",
        "                newCentroids[i] = clusterData.mean(axis=0)\n",
        "            else:\n",
        "                # Jika klaster kosong, pertahankan centroid lama\n",
        "                newCentroids[i] = centroids[i]\n",
        "\n",
        "        # Debugging: Tampilkan centroid pada iterasi ini\n",
        "        print(f\"Iterasi {iterationCounter + 1}\")\n",
        "        print(\"Centroid Baru:\\n\", newCentroids)\n",
        "\n",
        "        # Cek konvergensi (jika centroid tidak banyak berubah)\n",
        "        if np.all(np.linalg.norm(newCentroids - centroids, axis=1) < tol):\n",
        "            print(\"K-Means telah konvergen.\")\n",
        "            break\n",
        "\n",
        "        # Update centroid untuk iterasi berikutnya\n",
        "        centroids = newCentroids\n",
        "\n",
        "    return clusterResults, centroids\n",
        "\n",
        "\n",
        "# Contoh penggunaan\n",
        "# Data input (100 sampel, 2 fitur)\n",
        "np.random.seed(42)  # Untuk hasil random yang konsisten\n",
        "data = np.random.rand(100, 2)\n",
        "\n",
        "# Inisialisasi centroid awal (3 klaster)\n",
        "k = 3\n",
        "centroidInit = data[np.random.choice(data.shape[0], k, replace=False)]\n",
        "\n",
        "# Jalankan algoritma K-Means\n",
        "clusterResults, finalCentroids = kMeans(data, centroidInit)\n",
        "\n",
        "print(\"\\nHasil Akhir:\")\n",
        "print(\"Centroid Akhir:\\n\", finalCentroids)\n"
      ],
      "metadata": {
        "colab": {
          "base_uri": "https://localhost:8080/"
        },
        "id": "l7DvbabqdyaD",
        "outputId": "e156a0c6-a183-4537-fa14-06c1a426dcf0"
      },
      "execution_count": 10,
      "outputs": [
        {
          "output_type": "stream",
          "name": "stdout",
          "text": [
            "Iterasi 1\n",
            "Centroid Baru:\n",
            " [[0.8039633  0.57026999]\n",
            " [0.25937141 0.55876692]\n",
            " [0.34600441 0.11071069]]\n",
            "Iterasi 2\n",
            "Centroid Baru:\n",
            " [[0.81167067 0.56668218]\n",
            " [0.20718828 0.66171551]\n",
            " [0.38646391 0.16319889]]\n",
            "Iterasi 3\n",
            "Centroid Baru:\n",
            " [[0.81167067 0.56668218]\n",
            " [0.19283281 0.69933275]\n",
            " [0.37796131 0.18907176]]\n",
            "Iterasi 4\n",
            "Centroid Baru:\n",
            " [[0.8039633  0.57026999]\n",
            " [0.18668273 0.71210228]\n",
            " [0.36787846 0.19320081]]\n",
            "Iterasi 5\n",
            "Centroid Baru:\n",
            " [[0.8039633  0.57026999]\n",
            " [0.18520943 0.72228065]\n",
            " [0.36376248 0.20008043]]\n",
            "Iterasi 6\n",
            "Centroid Baru:\n",
            " [[0.8039633  0.57026999]\n",
            " [0.18520943 0.72228065]\n",
            " [0.36376248 0.20008043]]\n",
            "K-Means telah konvergen.\n",
            "\n",
            "Hasil Akhir:\n",
            "Centroid Akhir:\n",
            " [[0.8039633  0.57026999]\n",
            " [0.18520943 0.72228065]\n",
            " [0.36376248 0.20008043]]\n"
          ]
        }
      ]
    }
  ]
}